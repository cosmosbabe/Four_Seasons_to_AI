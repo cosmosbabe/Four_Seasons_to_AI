{
  "nbformat": 4,
  "nbformat_minor": 0,
  "metadata": {
    "colab": {
      "provenance": [],
      "authorship_tag": "ABX9TyPn6qWlp4EfQMHNnqm4vPdI",
      "include_colab_link": true
    },
    "kernelspec": {
      "name": "python3",
      "display_name": "Python 3"
    },
    "language_info": {
      "name": "python"
    }
  },
  "cells": [
    {
      "cell_type": "markdown",
      "metadata": {
        "id": "view-in-github",
        "colab_type": "text"
      },
      "source": [
        "<a href=\"https://colab.research.google.com/github/cosmosbabe/four_seasons/blob/main/The_Smallest_NN.ipynb\" target=\"_parent\"><img src=\"https://colab.research.google.com/assets/colab-badge.svg\" alt=\"Open In Colab\"/></a>"
      ]
    },
    {
      "cell_type": "code",
      "source": [
        "import numpy as np\n",
        "import matplotlib.pyplot as plt"
      ],
      "metadata": {
        "id": "Nh31j_wCIxGs"
      },
      "execution_count": null,
      "outputs": []
    },
    {
      "cell_type": "code",
      "source": [
        "import keras\n",
        "import tensorflow as tf\n",
        "\n",
        "from keras.models import Sequential\n",
        "from keras.layers import Dense"
      ],
      "metadata": {
        "id": "moU7mjmMcs9C"
      },
      "execution_count": null,
      "outputs": []
    },
    {
      "cell_type": "markdown",
      "source": [
        "**The Smallest Neural Network in the World**\n",
        "\n",
        "*by Irina Nedyalkova*"
      ],
      "metadata": {
        "id": "eS_DGlsrKSqT"
      }
    },
    {
      "cell_type": "markdown",
      "source": [
        "Have you known that the smallest machine neural network in the world has just one neuron?"
      ],
      "metadata": {
        "id": "o8tz8O0NAopz"
      }
    },
    {
      "cell_type": "markdown",
      "source": [
        "Machine neurons mimic the biological ones. They receive and send information. A deep neural network is divided into three parts:\n",
        "- input layer\n",
        "- neuron\n",
        "- output layer"
      ],
      "metadata": {
        "id": "iuetF3phAls6"
      }
    },
    {
      "cell_type": "markdown",
      "source": [
        "The input layer receives the data, ($x_1, x_2, x_3, ..., x_n$). Then we have weights, ($w_1, w_2, w_3, ..., w_n$). The weights are not considered a layer but they define how the neuron learns. And then we have the star of the show - $The Neuron$ - it is the body of our neural network. Each and every calculation is made here.\n",
        "It calculates the weighted sum of the input: $\\sum\\limits_{i=1}^nw_1*x_1$\n"
      ],
      "metadata": {
        "id": "IAYacK_LPbWx"
      }
    },
    {
      "cell_type": "markdown",
      "source": [
        "In the human brain a neuron is activated by other neurons to which it is connected. In our tiny network here, I will apply computationally the Exponential Linear Unit (ELU) activation function. ELU leads to higher classification accuracies $f(x) = x$ if $x \\geq 0$"
      ],
      "metadata": {
        "id": "_TN962k6bVLS"
      }
    },
    {
      "cell_type": "markdown",
      "source": [
        "In general, the activation functions decide whether a neuron should be activated or not, if the input data is useful or not. They use some mathematical operations to help the network choose the beneficial information and suppress the noise."
      ],
      "metadata": {
        "id": "tqt-DEKC9ymp"
      }
    },
    {
      "cell_type": "markdown",
      "source": [
        "The smallest neural network in the world must be trained on a really simple task:"
      ],
      "metadata": {
        "id": "o3S9RuZCcLC2"
      }
    },
    {
      "cell_type": "code",
      "source": [
        "attributes_train_data = np.array([1, 2, 0])\n",
        "target_data = np.array([0, 1, 2])"
      ],
      "metadata": {
        "id": "7anwfE9poIZD"
      },
      "execution_count": null,
      "outputs": []
    },
    {
      "cell_type": "code",
      "source": [
        "tiny_model = keras.models.Sequential()\n",
        "\n",
        "tiny_model.add(Dense(units = 1, input_dim = 1, activation = \"elu\"))\n",
        "\n",
        "tiny_model.compile(loss = \"mse\", optimizer = \"AdaGrad\", metrics = [\"mae\"])   #AdaGrad adapts the learning rate for each parameter individually"
      ],
      "metadata": {
        "id": "JKm7gYOPcgk2"
      },
      "execution_count": null,
      "outputs": []
    },
    {
      "cell_type": "code",
      "source": [
        "tiny_model.summary()"
      ],
      "metadata": {
        "colab": {
          "base_uri": "https://localhost:8080/"
        },
        "id": "BYpIr7sgjGjH",
        "outputId": "31195a1a-bfaf-45b1-c66d-1c8ade36628a"
      },
      "execution_count": null,
      "outputs": [
        {
          "output_type": "stream",
          "name": "stdout",
          "text": [
            "Model: \"sequential\"\n",
            "_________________________________________________________________\n",
            " Layer (type)                Output Shape              Param #   \n",
            "=================================================================\n",
            " dense (Dense)               (None, 1)                 2         \n",
            "                                                                 \n",
            "=================================================================\n",
            "Total params: 2 (8.00 Byte)\n",
            "Trainable params: 2 (8.00 Byte)\n",
            "Non-trainable params: 0 (0.00 Byte)\n",
            "_________________________________________________________________\n"
          ]
        }
      ]
    },
    {
      "cell_type": "code",
      "source": [
        "training = tiny_model.fit(attributes_train_data, target_data, epochs = 10, batch_size = 1)"
      ],
      "metadata": {
        "id": "nFKn-pCOrZLJ",
        "colab": {
          "base_uri": "https://localhost:8080/"
        },
        "outputId": "97b966d9-2040-45de-de2f-6921f51d1b02"
      },
      "execution_count": null,
      "outputs": [
        {
          "output_type": "stream",
          "name": "stdout",
          "text": [
            "Epoch 1/10\n",
            "3/3 [==============================] - 0s 4ms/step - loss: 1.7097 - mae: 1.0306\n",
            "Epoch 2/10\n",
            "3/3 [==============================] - 0s 3ms/step - loss: 1.7056 - mae: 1.0289\n",
            "Epoch 3/10\n",
            "3/3 [==============================] - 0s 3ms/step - loss: 1.7028 - mae: 1.0275\n",
            "Epoch 4/10\n",
            "3/3 [==============================] - 0s 3ms/step - loss: 1.7004 - mae: 1.0259\n",
            "Epoch 5/10\n",
            "3/3 [==============================] - 0s 3ms/step - loss: 1.6983 - mae: 1.0248\n",
            "Epoch 6/10\n",
            "3/3 [==============================] - 0s 2ms/step - loss: 1.6965 - mae: 1.0240\n",
            "Epoch 7/10\n",
            "3/3 [==============================] - 0s 2ms/step - loss: 1.6949 - mae: 1.0228\n",
            "Epoch 8/10\n",
            "3/3 [==============================] - 0s 3ms/step - loss: 1.6933 - mae: 1.0221\n",
            "Epoch 9/10\n",
            "3/3 [==============================] - 0s 3ms/step - loss: 1.6919 - mae: 1.0215\n",
            "Epoch 10/10\n",
            "3/3 [==============================] - 0s 2ms/step - loss: 1.6905 - mae: 1.0207\n"
          ]
        }
      ]
    },
    {
      "cell_type": "code",
      "source": [
        "plt.plot(training.history[\"mae\"])  # here I see how the score is going, in a perfect training MAE has to approach zero\n",
        "\n",
        "plt.title(\"Accuracy of my tiny model\", size = 9.5)\n",
        "plt.ylabel(\"accuracy\", loc = \"top\")\n",
        "plt.xlabel(\"epochs\", loc = \"right\")\n",
        "\n",
        "plt.show()"
      ],
      "metadata": {
        "colab": {
          "base_uri": "https://localhost:8080/",
          "height": 468
        },
        "id": "EBVjZsyQioaF",
        "outputId": "bbdf0987-f9fd-433e-f782-2265bbb7a34b"
      },
      "execution_count": null,
      "outputs": [
        {
          "output_type": "display_data",
          "data": {
            "text/plain": [
              "<Figure size 640x480 with 1 Axes>"
            ],
            "image/png": "[encoded data removed]"
          },
          "metadata": {}
        }
      ]
    },
    {
      "cell_type": "code",
      "source": [
        "tiny_model.evaluate(attributes_train_data, target_data)"
      ],
      "metadata": {
        "colab": {
          "base_uri": "https://localhost:8080/"
        },
        "id": "-tNfASAQ8tms",
        "outputId": "fd4c3740-2835-4418-f26b-b0c3fbf3fa38"
      },
      "execution_count": null,
      "outputs": [
        {
          "output_type": "stream",
          "name": "stdout",
          "text": [
            "1/1 [==============================] - 0s 140ms/step - loss: 1.6894 - mae: 1.0200\n"
          ]
        },
        {
          "output_type": "execute_result",
          "data": {
            "text/plain": [
              "[1.6894397735595703, 1.020041823387146]"
            ]
          },
          "metadata": {},
          "execution_count": 8
        }
      ]
    },
    {
      "cell_type": "markdown",
      "source": [
        ".......\"never did I feel my smallness more profoundly and never did I feel happier\""
      ],
      "metadata": {
        "id": "Imt4kbub6GC5"
      }
    },
    {
      "cell_type": "markdown",
      "source": [
        "Feb. 2024: The numbers reveal their language to me. Happiest me."
      ],
      "metadata": {
        "id": "Ilwlbg9uedZC"
      }
    }
  ]
}